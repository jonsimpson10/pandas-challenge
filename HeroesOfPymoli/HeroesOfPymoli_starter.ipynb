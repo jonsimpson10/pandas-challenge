{
 "cells": [
  {
   "cell_type": "markdown",
   "metadata": {},
   "source": [
    "### Heroes Of Pymoli Data Analysis\n",
    "* Of the 576 active players, 484 are male (84%). There also exists a smaller but notable proportion of female players (81 or 14%).  \n",
    "\n",
    "* Male players spent \\$1,967.64 in total on purchases, outpacing female players, who spent \\\\$361.94. Female players, however, spent more on average than their male counterparts (\\\\$4.47 per player vs. \\\\$4.07).\n",
    "\n",
    "* Our peak age demographic falls between 20-24 (44.8%) with secondary groups falling between 15-19 (18.60%) and 25-29 (13.4%).  Players 35-39 years old, however, spent the most on a per player basis.  The top 5 spenders are all between the ages of 20 and 25.\n",
    "\n",
    "* Oathbreaker, Item ID 178, was both the most purchased item and the biggest revenue generator of all the items in the game.  \n",
    "-----"
   ]
  },
  {
   "cell_type": "markdown",
   "metadata": {},
   "source": [
    "### Note\n",
    "* Instructions have been included for each segment. You do not have to follow them exactly, but they are included to help you think through the steps."
   ]
  },
  {
   "cell_type": "code",
   "execution_count": 22,
   "metadata": {},
   "outputs": [
    {
     "data": {
      "text/html": [
       "<div>\n",
       "<style scoped>\n",
       "    .dataframe tbody tr th:only-of-type {\n",
       "        vertical-align: middle;\n",
       "    }\n",
       "\n",
       "    .dataframe tbody tr th {\n",
       "        vertical-align: top;\n",
       "    }\n",
       "\n",
       "    .dataframe thead th {\n",
       "        text-align: right;\n",
       "    }\n",
       "</style>\n",
       "<table border=\"1\" class=\"dataframe\">\n",
       "  <thead>\n",
       "    <tr style=\"text-align: right;\">\n",
       "      <th></th>\n",
       "      <th>Purchase ID</th>\n",
       "      <th>SN</th>\n",
       "      <th>Age</th>\n",
       "      <th>Gender</th>\n",
       "      <th>Item ID</th>\n",
       "      <th>Item Name</th>\n",
       "      <th>Price</th>\n",
       "    </tr>\n",
       "  </thead>\n",
       "  <tbody>\n",
       "    <tr>\n",
       "      <td>0</td>\n",
       "      <td>0</td>\n",
       "      <td>Lisim78</td>\n",
       "      <td>20</td>\n",
       "      <td>Male</td>\n",
       "      <td>108</td>\n",
       "      <td>Extraction, Quickblade Of Trembling Hands</td>\n",
       "      <td>3.53</td>\n",
       "    </tr>\n",
       "    <tr>\n",
       "      <td>1</td>\n",
       "      <td>1</td>\n",
       "      <td>Lisovynya38</td>\n",
       "      <td>40</td>\n",
       "      <td>Male</td>\n",
       "      <td>143</td>\n",
       "      <td>Frenzied Scimitar</td>\n",
       "      <td>1.56</td>\n",
       "    </tr>\n",
       "    <tr>\n",
       "      <td>2</td>\n",
       "      <td>2</td>\n",
       "      <td>Ithergue48</td>\n",
       "      <td>24</td>\n",
       "      <td>Male</td>\n",
       "      <td>92</td>\n",
       "      <td>Final Critic</td>\n",
       "      <td>4.88</td>\n",
       "    </tr>\n",
       "    <tr>\n",
       "      <td>3</td>\n",
       "      <td>3</td>\n",
       "      <td>Chamassasya86</td>\n",
       "      <td>24</td>\n",
       "      <td>Male</td>\n",
       "      <td>100</td>\n",
       "      <td>Blindscythe</td>\n",
       "      <td>3.27</td>\n",
       "    </tr>\n",
       "    <tr>\n",
       "      <td>4</td>\n",
       "      <td>4</td>\n",
       "      <td>Iskosia90</td>\n",
       "      <td>23</td>\n",
       "      <td>Male</td>\n",
       "      <td>131</td>\n",
       "      <td>Fury</td>\n",
       "      <td>1.44</td>\n",
       "    </tr>\n",
       "  </tbody>\n",
       "</table>\n",
       "</div>"
      ],
      "text/plain": [
       "   Purchase ID             SN  Age Gender  Item ID  \\\n",
       "0            0        Lisim78   20   Male      108   \n",
       "1            1    Lisovynya38   40   Male      143   \n",
       "2            2     Ithergue48   24   Male       92   \n",
       "3            3  Chamassasya86   24   Male      100   \n",
       "4            4      Iskosia90   23   Male      131   \n",
       "\n",
       "                                   Item Name  Price  \n",
       "0  Extraction, Quickblade Of Trembling Hands   3.53  \n",
       "1                          Frenzied Scimitar   1.56  \n",
       "2                               Final Critic   4.88  \n",
       "3                                Blindscythe   3.27  \n",
       "4                                       Fury   1.44  "
      ]
     },
     "execution_count": 22,
     "metadata": {},
     "output_type": "execute_result"
    }
   ],
   "source": [
    "# Dependencies and Setup\n",
    "import pandas as pd\n",
    "\n",
    "# File to Load (Remember to Change These)\n",
    "file_to_load = \"Resources/purchase_data.csv\"\n",
    "\n",
    "# Read Purchasing File and store into Pandas data frame\n",
    "purchase_data = pd.read_csv(file_to_load)\n",
    "purchase_data.head()"
   ]
  },
  {
   "cell_type": "markdown",
   "metadata": {},
   "source": [
    "## Player Count"
   ]
  },
  {
   "cell_type": "markdown",
   "metadata": {},
   "source": [
    "* Display the total number of players\n"
   ]
  },
  {
   "cell_type": "code",
   "execution_count": 2,
   "metadata": {},
   "outputs": [
    {
     "data": {
      "text/html": [
       "<div>\n",
       "<style scoped>\n",
       "    .dataframe tbody tr th:only-of-type {\n",
       "        vertical-align: middle;\n",
       "    }\n",
       "\n",
       "    .dataframe tbody tr th {\n",
       "        vertical-align: top;\n",
       "    }\n",
       "\n",
       "    .dataframe thead th {\n",
       "        text-align: right;\n",
       "    }\n",
       "</style>\n",
       "<table border=\"1\" class=\"dataframe\">\n",
       "  <thead>\n",
       "    <tr style=\"text-align: right;\">\n",
       "      <th></th>\n",
       "      <th>Total Players</th>\n",
       "    </tr>\n",
       "  </thead>\n",
       "  <tbody>\n",
       "    <tr>\n",
       "      <td>0</td>\n",
       "      <td>576</td>\n",
       "    </tr>\n",
       "  </tbody>\n",
       "</table>\n",
       "</div>"
      ],
      "text/plain": [
       "   Total Players\n",
       "0            576"
      ]
     },
     "execution_count": 2,
     "metadata": {},
     "output_type": "execute_result"
    }
   ],
   "source": [
    "total_players = len(purchase_data[\"SN\"].unique())\n",
    "totalplayer_df = pd.DataFrame({\"Total Players\": [total_players]})\n",
    "totalplayer_df\n"
   ]
  },
  {
   "cell_type": "markdown",
   "metadata": {},
   "source": [
    "## Purchasing Analysis (Total)"
   ]
  },
  {
   "cell_type": "markdown",
   "metadata": {},
   "source": [
    "* Run basic calculations to obtain number of unique items, average price, etc.\n",
    "\n",
    "\n",
    "* Create a summary data frame to hold the results\n",
    "\n",
    "\n",
    "* Optional: give the displayed data cleaner formatting\n",
    "\n",
    "\n",
    "* Display the summary data frame\n"
   ]
  },
  {
   "cell_type": "code",
   "execution_count": 3,
   "metadata": {
    "scrolled": true
   },
   "outputs": [
    {
     "data": {
      "text/html": [
       "<div>\n",
       "<style scoped>\n",
       "    .dataframe tbody tr th:only-of-type {\n",
       "        vertical-align: middle;\n",
       "    }\n",
       "\n",
       "    .dataframe tbody tr th {\n",
       "        vertical-align: top;\n",
       "    }\n",
       "\n",
       "    .dataframe thead th {\n",
       "        text-align: right;\n",
       "    }\n",
       "</style>\n",
       "<table border=\"1\" class=\"dataframe\">\n",
       "  <thead>\n",
       "    <tr style=\"text-align: right;\">\n",
       "      <th></th>\n",
       "      <th>Unique Items</th>\n",
       "      <th>Average Price</th>\n",
       "      <th>Total Purchases</th>\n",
       "      <th>Total Revenue</th>\n",
       "    </tr>\n",
       "  </thead>\n",
       "  <tbody>\n",
       "    <tr>\n",
       "      <td>0</td>\n",
       "      <td>179</td>\n",
       "      <td>$3.05</td>\n",
       "      <td>780</td>\n",
       "      <td>$2,379.77</td>\n",
       "    </tr>\n",
       "  </tbody>\n",
       "</table>\n",
       "</div>"
      ],
      "text/plain": [
       "   Unique Items Average Price  Total Purchases Total Revenue\n",
       "0           179         $3.05              780     $2,379.77"
      ]
     },
     "execution_count": 3,
     "metadata": {},
     "output_type": "execute_result"
    }
   ],
   "source": [
    "unique_items = len(purchase_data[\"Item Name\"].value_counts())\n",
    "avg_price = purchase_data[\"Price\"].mean()\n",
    "total_purchases = purchase_data[\"Purchase ID\"].count()\n",
    "total_revenue = purchase_data[\"Price\"].sum()\n",
    "summary_df = pd.DataFrame({\"Unique Items\": [unique_items], \"Average Price\": avg_price, \"Total Purchases\": total_purchases,\n",
    "                          \"Total Revenue\": total_revenue})\n",
    "summary_df[\"Total Revenue\"] = summary_df[\"Total Revenue\"].astype(float).map(\"${:,.2f}\".format)\n",
    "summary_df[\"Average Price\"] = summary_df[\"Average Price\"].astype(float).map(\"${:,.2f}\".format)\n",
    "summary_df"
   ]
  },
  {
   "cell_type": "markdown",
   "metadata": {},
   "source": [
    "## Gender Demographics"
   ]
  },
  {
   "cell_type": "markdown",
   "metadata": {},
   "source": [
    "* Percentage and Count of Male Players\n",
    "\n",
    "\n",
    "* Percentage and Count of Female Players\n",
    "\n",
    "\n",
    "* Percentage and Count of Other / Non-Disclosed\n",
    "\n",
    "\n"
   ]
  },
  {
   "cell_type": "code",
   "execution_count": 4,
   "metadata": {},
   "outputs": [
    {
     "data": {
      "text/html": [
       "<div>\n",
       "<style scoped>\n",
       "    .dataframe tbody tr th:only-of-type {\n",
       "        vertical-align: middle;\n",
       "    }\n",
       "\n",
       "    .dataframe tbody tr th {\n",
       "        vertical-align: top;\n",
       "    }\n",
       "\n",
       "    .dataframe thead th {\n",
       "        text-align: right;\n",
       "    }\n",
       "</style>\n",
       "<table border=\"1\" class=\"dataframe\">\n",
       "  <thead>\n",
       "    <tr style=\"text-align: right;\">\n",
       "      <th></th>\n",
       "      <th>Number of Male Players</th>\n",
       "      <th>Percentage of Males</th>\n",
       "      <th>Number of Female Players</th>\n",
       "      <th>Percentage of Females</th>\n",
       "      <th>Number of Other Gendered Players</th>\n",
       "      <th>Percentage of Other Gender</th>\n",
       "    </tr>\n",
       "  </thead>\n",
       "  <tbody>\n",
       "    <tr>\n",
       "      <td>0</td>\n",
       "      <td>484</td>\n",
       "      <td>84.03%</td>\n",
       "      <td>81</td>\n",
       "      <td>14.06%</td>\n",
       "      <td>11</td>\n",
       "      <td>1.91%</td>\n",
       "    </tr>\n",
       "  </tbody>\n",
       "</table>\n",
       "</div>"
      ],
      "text/plain": [
       "   Number of Male Players Percentage of Males  Number of Female Players  \\\n",
       "0                     484              84.03%                        81   \n",
       "\n",
       "  Percentage of Females  Number of Other Gendered Players  \\\n",
       "0                14.06%                                11   \n",
       "\n",
       "  Percentage of Other Gender  \n",
       "0                      1.91%  "
      ]
     },
     "execution_count": 4,
     "metadata": {},
     "output_type": "execute_result"
    }
   ],
   "source": [
    "#Create a dataframe that includes each player one time to get accurate gender numbers\n",
    "gender_df = purchase_data\n",
    "\n",
    "#Drop duplicate screen names\n",
    "gender_df.sort_values(\"SN\", inplace = True)\n",
    "gender_df.drop_duplicates(subset = [\"SN\"], keep = \"first\", inplace = True)\n",
    "\n",
    "#Put number of male players into a variable\n",
    "male_players_df = gender_df.loc[gender_df[\"Gender\"] ==\"Male\", [\"SN\", \"Gender\"]]\n",
    "males = len(male_players_df[\"SN\"].value_counts())\n",
    "per_males = males / total_players\n",
    "\n",
    "#Put number of female players into a variable\n",
    "female_players_df = gender_df.loc[gender_df[\"Gender\"] ==\"Female\", [\"SN\", \"Gender\"]]\n",
    "females = len(female_players_df[\"SN\"].value_counts())\n",
    "per_females = females / total_players\n",
    "\n",
    "#Put other gender into a variable\n",
    "other_players_df = gender_df.loc[gender_df[\"Gender\"] ==\"Other / Non-Disclosed\", [\"SN\", \"Gender\"]]\n",
    "other_nd = len(other_players_df[\"SN\"].value_counts())\n",
    "per_other = other_nd / total_players\n",
    "\n",
    "#Create a summary table with these values\n",
    "gender_summary_df = pd.DataFrame({\"Number of Male Players\": [males], \"Percentage of Males\": [per_males], \n",
    "                                  \"Number of Female Players\": [females], \"Percentage of Females\": [per_females],\n",
    "                                 \"Number of Other Gendered Players\": [other_nd], \"Percentage of Other Gender\": [per_other]})\n",
    "gender_summary_df[\"Percentage of Males\"] = gender_summary_df[\"Percentage of Males\"].astype(float).map('{:.2%}'.format)\n",
    "gender_summary_df[\"Percentage of Females\"] = gender_summary_df[\"Percentage of Females\"].astype(float).map('{:.2%}'.format)\n",
    "gender_summary_df[\"Percentage of Other Gender\"] = gender_summary_df[\"Percentage of Other Gender\"].astype(float).map('{:.2%}'.format)\n",
    "\n",
    "gender_summary_df\n"
   ]
  },
  {
   "cell_type": "code",
   "execution_count": null,
   "metadata": {},
   "outputs": [],
   "source": []
  },
  {
   "cell_type": "markdown",
   "metadata": {},
   "source": [
    "\n",
    "## Purchasing Analysis (Gender)"
   ]
  },
  {
   "cell_type": "markdown",
   "metadata": {},
   "source": [
    "* Run basic calculations to obtain purchase count, avg. purchase price, avg. purchase total per person etc. by gender\n",
    "\n",
    "\n",
    "\n",
    "\n",
    "* Create a summary data frame to hold the results\n",
    "\n",
    "\n",
    "* Optional: give the displayed data cleaner formatting\n",
    "\n",
    "\n",
    "* Display the summary data frame"
   ]
  },
  {
   "cell_type": "code",
   "execution_count": 5,
   "metadata": {},
   "outputs": [
    {
     "data": {
      "text/plain": [
       "Gender\n",
       "Female                   113\n",
       "Male                     652\n",
       "Other / Non-Disclosed     15\n",
       "Name: Purchase ID, dtype: int64"
      ]
     },
     "execution_count": 5,
     "metadata": {},
     "output_type": "execute_result"
    }
   ],
   "source": [
    "total_data = pd.read_csv(file_to_load)\n",
    "group_df = total_data.groupby([\"Gender\"])\n",
    "\n",
    "#Total purchases by gender\n",
    "total_purchases_by_gender = group_df[\"Purchase ID\"].count()\n",
    "\n",
    "total_purchases_by_gender"
   ]
  },
  {
   "cell_type": "code",
   "execution_count": 6,
   "metadata": {},
   "outputs": [
    {
     "data": {
      "text/plain": [
       "Gender\n",
       "Female                   3.203009\n",
       "Male                     3.017853\n",
       "Other / Non-Disclosed    3.346000\n",
       "Name: Price, dtype: float64"
      ]
     },
     "execution_count": 6,
     "metadata": {},
     "output_type": "execute_result"
    }
   ],
   "source": [
    "#Average purchase price by gender  .astype(float).map(\"${:,.2f}\".format)\n",
    "avg_gender_price = group_df[\"Price\"].mean()\n",
    "avg_gender_price"
   ]
  },
  {
   "cell_type": "code",
   "execution_count": 7,
   "metadata": {},
   "outputs": [
    {
     "data": {
      "text/plain": [
       "Gender\n",
       "Female                    361.94\n",
       "Male                     1967.64\n",
       "Other / Non-Disclosed      50.19\n",
       "Name: Price, dtype: float64"
      ]
     },
     "execution_count": 7,
     "metadata": {},
     "output_type": "execute_result"
    }
   ],
   "source": [
    "#Total purchases by gender  .astype(float).map(\"${:,.2f}\".format)\n",
    "total_revenue_gender = group_df[\"Price\"].sum()\n",
    "total_revenue_gender"
   ]
  },
  {
   "cell_type": "code",
   "execution_count": 8,
   "metadata": {},
   "outputs": [],
   "source": [
    "#Average purchase total per person per gender\n",
    "avg_male_revenue = total_revenue_gender[\"Male\"] / males\n",
    "avg_female_revenue = total_revenue_gender[\"Female\"] / females\n",
    "avg_other_revenue = total_revenue_gender[\"Other / Non-Disclosed\"] / other_nd\n",
    "\n"
   ]
  },
  {
   "cell_type": "code",
   "execution_count": 9,
   "metadata": {},
   "outputs": [
    {
     "data": {
      "text/html": [
       "<div>\n",
       "<style scoped>\n",
       "    .dataframe tbody tr th:only-of-type {\n",
       "        vertical-align: middle;\n",
       "    }\n",
       "\n",
       "    .dataframe tbody tr th {\n",
       "        vertical-align: top;\n",
       "    }\n",
       "\n",
       "    .dataframe thead th {\n",
       "        text-align: right;\n",
       "    }\n",
       "</style>\n",
       "<table border=\"1\" class=\"dataframe\">\n",
       "  <thead>\n",
       "    <tr style=\"text-align: right;\">\n",
       "      <th></th>\n",
       "      <th>Total Players</th>\n",
       "      <th>% of Player Base</th>\n",
       "      <th>Total Purchases</th>\n",
       "      <th>Average Purchase Price</th>\n",
       "      <th>Total Revenue</th>\n",
       "      <th>Average Revenue per Person</th>\n",
       "    </tr>\n",
       "    <tr>\n",
       "      <th>Gender</th>\n",
       "      <th></th>\n",
       "      <th></th>\n",
       "      <th></th>\n",
       "      <th></th>\n",
       "      <th></th>\n",
       "      <th></th>\n",
       "    </tr>\n",
       "  </thead>\n",
       "  <tbody>\n",
       "    <tr>\n",
       "      <td>Female</td>\n",
       "      <td>81</td>\n",
       "      <td>14.06%</td>\n",
       "      <td>113</td>\n",
       "      <td>$3.20</td>\n",
       "      <td>$361.94</td>\n",
       "      <td>$4.47</td>\n",
       "    </tr>\n",
       "    <tr>\n",
       "      <td>Male</td>\n",
       "      <td>484</td>\n",
       "      <td>84.03%</td>\n",
       "      <td>652</td>\n",
       "      <td>$3.02</td>\n",
       "      <td>$1,967.64</td>\n",
       "      <td>$4.07</td>\n",
       "    </tr>\n",
       "    <tr>\n",
       "      <td>Other / Non-Disclosed</td>\n",
       "      <td>11</td>\n",
       "      <td>1.91%</td>\n",
       "      <td>15</td>\n",
       "      <td>$3.35</td>\n",
       "      <td>$50.19</td>\n",
       "      <td>$4.56</td>\n",
       "    </tr>\n",
       "  </tbody>\n",
       "</table>\n",
       "</div>"
      ],
      "text/plain": [
       "                       Total Players % of Player Base  Total Purchases  \\\n",
       "Gender                                                                   \n",
       "Female                            81           14.06%              113   \n",
       "Male                             484           84.03%              652   \n",
       "Other / Non-Disclosed             11            1.91%               15   \n",
       "\n",
       "                      Average Purchase Price Total Revenue  \\\n",
       "Gender                                                       \n",
       "Female                                 $3.20       $361.94   \n",
       "Male                                   $3.02     $1,967.64   \n",
       "Other / Non-Disclosed                  $3.35        $50.19   \n",
       "\n",
       "                      Average Revenue per Person  \n",
       "Gender                                            \n",
       "Female                                     $4.47  \n",
       "Male                                       $4.07  \n",
       "Other / Non-Disclosed                      $4.56  "
      ]
     },
     "execution_count": 9,
     "metadata": {},
     "output_type": "execute_result"
    }
   ],
   "source": [
    "#Summary table\n",
    "gender_revenue_summary_df = pd.DataFrame({\"Total Players\": [females, males, other_nd], \n",
    "                                          \"% of Player Base\": [per_females, per_males, per_other],\n",
    "                                          \"Total Purchases\": total_purchases_by_gender, \n",
    "                                          \"Average Purchase Price\": avg_gender_price, \n",
    "                                          \"Total Revenue\": total_revenue_gender, \n",
    "                                          \"Average Revenue per Person\": [avg_female_revenue, avg_male_revenue, avg_other_revenue]})\n",
    "\n",
    "gender_revenue_summary_df[\"Average Purchase Price\"] = gender_revenue_summary_df[\"Average Purchase Price\"].astype(float).map(\"${:,.2f}\".format)\n",
    "gender_revenue_summary_df[\"Total Revenue\"] = gender_revenue_summary_df[\"Total Revenue\"].astype(float).map(\"${:,.2f}\".format)\n",
    "gender_revenue_summary_df[\"Average Revenue per Person\"] = gender_revenue_summary_df[\"Average Revenue per Person\"].astype(float).map(\"${:,.2f}\".format)\n",
    "gender_revenue_summary_df[\"% of Player Base\"] = gender_revenue_summary_df[\"% of Player Base\"].astype(float).map('{:.2%}'.format)\n",
    "\n",
    "gender_revenue_summary_df"
   ]
  },
  {
   "cell_type": "markdown",
   "metadata": {},
   "source": [
    "## Age Demographics"
   ]
  },
  {
   "cell_type": "markdown",
   "metadata": {},
   "source": [
    "* Establish bins for ages\n",
    "\n",
    "\n",
    "* Categorize the existing players using the age bins. Hint: use pd.cut()\n",
    "\n",
    "\n",
    "* Calculate the numbers and percentages by age group\n",
    "\n",
    "\n",
    "* Create a summary data frame to hold the results\n",
    "\n",
    "\n",
    "* Optional: round the percentage column to two decimal points\n",
    "\n",
    "\n",
    "* Display Age Demographics Table\n"
   ]
  },
  {
   "cell_type": "code",
   "execution_count": 10,
   "metadata": {},
   "outputs": [],
   "source": [
    "#Create bins\n",
    "bins = [0, 9, 14, 19, 24, 29, 34, 39, 117]\n",
    "group_names = [\"Under 10\", \"10-14\", \"15-19\", \"20-24\", \"25-29\", \"30-34\", \"35-39\", \"Over 40\"]\n",
    "\n",
    "total_data[\"Age Group\"] = pd.cut(total_data[\"Age\"], bins, labels=group_names)\n"
   ]
  },
  {
   "cell_type": "code",
   "execution_count": 11,
   "metadata": {},
   "outputs": [],
   "source": [
    "age_group_df = total_data.groupby([\"Age Group\"])\n",
    "#age_group_df.count()"
   ]
  },
  {
   "cell_type": "code",
   "execution_count": 12,
   "metadata": {},
   "outputs": [
    {
     "data": {
      "text/plain": [
       "Age Group\n",
       "Under 10     23\n",
       "10-14        28\n",
       "15-19       136\n",
       "20-24       365\n",
       "25-29       101\n",
       "30-34        73\n",
       "35-39        41\n",
       "Over 40      13\n",
       "Name: Purchase ID, dtype: int64"
      ]
     },
     "execution_count": 12,
     "metadata": {},
     "output_type": "execute_result"
    }
   ],
   "source": [
    "#Total purchases by age\n",
    "age_group_total_purchases = age_group_df[\"Purchase ID\"].count()\n",
    "age_group_total_purchases"
   ]
  },
  {
   "cell_type": "code",
   "execution_count": 13,
   "metadata": {},
   "outputs": [
    {
     "data": {
      "text/plain": [
       "Age Group\n",
       "Under 10    3.353478\n",
       "10-14       2.956429\n",
       "15-19       3.035956\n",
       "20-24       3.052219\n",
       "25-29       2.900990\n",
       "30-34       2.931507\n",
       "35-39       3.601707\n",
       "Over 40     2.941538\n",
       "Name: Price, dtype: float64"
      ]
     },
     "execution_count": 13,
     "metadata": {},
     "output_type": "execute_result"
    }
   ],
   "source": [
    "#Average price by age group\n",
    "age_group_average_price = age_group_df[\"Price\"].mean()\n",
    "age_group_average_price"
   ]
  },
  {
   "cell_type": "code",
   "execution_count": 14,
   "metadata": {},
   "outputs": [
    {
     "data": {
      "text/plain": [
       "Age Group\n",
       "Under 10      77.13\n",
       "10-14         82.78\n",
       "15-19        412.89\n",
       "20-24       1114.06\n",
       "25-29        293.00\n",
       "30-34        214.00\n",
       "35-39        147.67\n",
       "Over 40       38.24\n",
       "Name: Price, dtype: float64"
      ]
     },
     "execution_count": 14,
     "metadata": {},
     "output_type": "execute_result"
    }
   ],
   "source": [
    "#Total revenue by age group\n",
    "age_group_total_revenue = age_group_df[\"Price\"].sum()\n",
    "age_group_total_revenue"
   ]
  },
  {
   "cell_type": "code",
   "execution_count": 15,
   "metadata": {},
   "outputs": [],
   "source": [
    "#Average purchase total per person in age group\n",
    "#Use gender_df to get user counts for age groups\n",
    "gender_df[\"Age Group\"] = pd.cut(gender_df[\"Age\"], bins, labels=group_names, include_lowest=True)\n",
    "#gender_df"
   ]
  },
  {
   "cell_type": "code",
   "execution_count": 16,
   "metadata": {},
   "outputs": [],
   "source": [
    "#Get the number of each group into a variable\n",
    "#Under 10 (17)\n",
    "under_ten_df = gender_df.loc[gender_df[\"Age Group\"] == \"Under 10\", [\"SN\", \"Age Group\"]]\n",
    "under_10 = len(under_ten_df[\"SN\"].value_counts())\n",
    "\n",
    "#10-14 (22)\n",
    "ten_fourteen_df = gender_df.loc[gender_df[\"Age Group\"] == \"10-14\", [\"SN\", \"Age Group\"]]\n",
    "ten_fourteen = len(ten_fourteen_df[\"SN\"].value_counts())\n",
    "\n",
    "#15-19 (107)\n",
    "fifteen_nineteen_df = gender_df.loc[gender_df[\"Age Group\"] == \"15-19\", [\"SN\", \"Age Group\"]]\n",
    "fifteen_nineteen = len(fifteen_nineteen_df[\"SN\"].value_counts())\n",
    "\n",
    "#20-24 (258)\n",
    "twenty_df = gender_df.loc[gender_df[\"Age Group\"] == \"20-24\", [\"SN\", \"Age Group\"]]\n",
    "twenty = len(twenty_df[\"SN\"].value_counts())\n",
    "\n",
    "#25-29 (77)\n",
    "twentyfive_df = gender_df.loc[gender_df[\"Age Group\"] == \"25-29\", [\"SN\", \"Age Group\"]]\n",
    "twentyfive = len(twentyfive_df[\"SN\"].value_counts())\n",
    "\n",
    "#30-34 (52)\n",
    "thirty_df = gender_df.loc[gender_df[\"Age Group\"] == \"30-34\", [\"SN\", \"Age Group\"]]\n",
    "thirty = len(thirty_df[\"SN\"].value_counts())\n",
    "\n",
    "#35-39 (31)\n",
    "thirtyfive_df = gender_df.loc[gender_df[\"Age Group\"] == \"35-39\", [\"SN\", \"Age Group\"]]\n",
    "thirtyfive = len(thirtyfive_df[\"SN\"].value_counts())\n",
    "\n",
    "#Over 40 (12)\n",
    "over_forty_df = gender_df.loc[gender_df[\"Age Group\"] == \"Over 40\", [\"SN\", \"Age Group\"]]\n",
    "over_forty = len(over_forty_df[\"SN\"].value_counts())\n",
    "\n",
    "#List of all these variables\n",
    "per_age_groups = [under_10, ten_fourteen, fifteen_nineteen, twenty, twentyfive, thirty, thirtyfive, over_forty]\n",
    "\n"
   ]
  },
  {
   "cell_type": "code",
   "execution_count": 17,
   "metadata": {},
   "outputs": [],
   "source": [
    "#Percentage of age groups\n",
    "percentage_age_groups = [under_10/total_players, ten_fourteen/total_players, fifteen_nineteen/total_players, \n",
    "                         twenty/total_players, twentyfive/total_players,thirty/total_players, \n",
    "                         thirtyfive/total_players, over_forty/total_players]\n"
   ]
  },
  {
   "cell_type": "code",
   "execution_count": null,
   "metadata": {},
   "outputs": [],
   "source": []
  },
  {
   "cell_type": "markdown",
   "metadata": {},
   "source": [
    "## Purchasing Analysis (Age)"
   ]
  },
  {
   "cell_type": "markdown",
   "metadata": {},
   "source": [
    "* Bin the purchase_data data frame by age\n",
    "\n",
    "\n",
    "* Run basic calculations to obtain purchase count, avg. purchase price, avg. purchase total per person etc. in the table below\n",
    "\n",
    "\n",
    "* Create a summary data frame to hold the results\n",
    "\n",
    "\n",
    "* Optional: give the displayed data cleaner formatting\n",
    "\n",
    "\n",
    "* Display the summary data frame"
   ]
  },
  {
   "cell_type": "code",
   "execution_count": 18,
   "metadata": {},
   "outputs": [
    {
     "data": {
      "text/html": [
       "<div>\n",
       "<style scoped>\n",
       "    .dataframe tbody tr th:only-of-type {\n",
       "        vertical-align: middle;\n",
       "    }\n",
       "\n",
       "    .dataframe tbody tr th {\n",
       "        vertical-align: top;\n",
       "    }\n",
       "\n",
       "    .dataframe thead th {\n",
       "        text-align: right;\n",
       "    }\n",
       "</style>\n",
       "<table border=\"1\" class=\"dataframe\">\n",
       "  <thead>\n",
       "    <tr style=\"text-align: right;\">\n",
       "      <th></th>\n",
       "      <th>Players</th>\n",
       "      <th>% of Player Base</th>\n",
       "      <th>Total Purchases</th>\n",
       "      <th>Average Purchase Price</th>\n",
       "      <th>Total Revenue</th>\n",
       "      <th>Per Player Revenue</th>\n",
       "    </tr>\n",
       "    <tr>\n",
       "      <th>Age Group</th>\n",
       "      <th></th>\n",
       "      <th></th>\n",
       "      <th></th>\n",
       "      <th></th>\n",
       "      <th></th>\n",
       "      <th></th>\n",
       "    </tr>\n",
       "  </thead>\n",
       "  <tbody>\n",
       "    <tr>\n",
       "      <td>Under 10</td>\n",
       "      <td>17</td>\n",
       "      <td>2.95%</td>\n",
       "      <td>23</td>\n",
       "      <td>$3.35</td>\n",
       "      <td>$77.13</td>\n",
       "      <td>$4.54</td>\n",
       "    </tr>\n",
       "    <tr>\n",
       "      <td>10-14</td>\n",
       "      <td>22</td>\n",
       "      <td>3.82%</td>\n",
       "      <td>28</td>\n",
       "      <td>$2.96</td>\n",
       "      <td>$82.78</td>\n",
       "      <td>$3.76</td>\n",
       "    </tr>\n",
       "    <tr>\n",
       "      <td>15-19</td>\n",
       "      <td>107</td>\n",
       "      <td>18.58%</td>\n",
       "      <td>136</td>\n",
       "      <td>$3.04</td>\n",
       "      <td>$412.89</td>\n",
       "      <td>$3.86</td>\n",
       "    </tr>\n",
       "    <tr>\n",
       "      <td>20-24</td>\n",
       "      <td>258</td>\n",
       "      <td>44.79%</td>\n",
       "      <td>365</td>\n",
       "      <td>$3.05</td>\n",
       "      <td>$1,114.06</td>\n",
       "      <td>$4.32</td>\n",
       "    </tr>\n",
       "    <tr>\n",
       "      <td>25-29</td>\n",
       "      <td>77</td>\n",
       "      <td>13.37%</td>\n",
       "      <td>101</td>\n",
       "      <td>$2.90</td>\n",
       "      <td>$293.00</td>\n",
       "      <td>$3.81</td>\n",
       "    </tr>\n",
       "    <tr>\n",
       "      <td>30-34</td>\n",
       "      <td>52</td>\n",
       "      <td>9.03%</td>\n",
       "      <td>73</td>\n",
       "      <td>$2.93</td>\n",
       "      <td>$214.00</td>\n",
       "      <td>$4.12</td>\n",
       "    </tr>\n",
       "    <tr>\n",
       "      <td>35-39</td>\n",
       "      <td>31</td>\n",
       "      <td>5.38%</td>\n",
       "      <td>41</td>\n",
       "      <td>$3.60</td>\n",
       "      <td>$147.67</td>\n",
       "      <td>$4.76</td>\n",
       "    </tr>\n",
       "    <tr>\n",
       "      <td>Over 40</td>\n",
       "      <td>12</td>\n",
       "      <td>2.08%</td>\n",
       "      <td>13</td>\n",
       "      <td>$2.94</td>\n",
       "      <td>$38.24</td>\n",
       "      <td>$3.19</td>\n",
       "    </tr>\n",
       "  </tbody>\n",
       "</table>\n",
       "</div>"
      ],
      "text/plain": [
       "           Players % of Player Base  Total Purchases Average Purchase Price  \\\n",
       "Age Group                                                                     \n",
       "Under 10        17            2.95%               23                  $3.35   \n",
       "10-14           22            3.82%               28                  $2.96   \n",
       "15-19          107           18.58%              136                  $3.04   \n",
       "20-24          258           44.79%              365                  $3.05   \n",
       "25-29           77           13.37%              101                  $2.90   \n",
       "30-34           52            9.03%               73                  $2.93   \n",
       "35-39           31            5.38%               41                  $3.60   \n",
       "Over 40         12            2.08%               13                  $2.94   \n",
       "\n",
       "          Total Revenue Per Player Revenue  \n",
       "Age Group                                   \n",
       "Under 10         $77.13              $4.54  \n",
       "10-14            $82.78              $3.76  \n",
       "15-19           $412.89              $3.86  \n",
       "20-24         $1,114.06              $4.32  \n",
       "25-29           $293.00              $3.81  \n",
       "30-34           $214.00              $4.12  \n",
       "35-39           $147.67              $4.76  \n",
       "Over 40          $38.24              $3.19  "
      ]
     },
     "execution_count": 18,
     "metadata": {},
     "output_type": "execute_result"
    }
   ],
   "source": [
    "#Summary table for age group data\n",
    "summary_age_df = pd.DataFrame({\"Players\": per_age_groups, \"% of Player Base\": percentage_age_groups, \"Total Purchases\": age_group_total_purchases, \"Average Purchase Price\": age_group_average_price, \n",
    "                               \"Total Revenue\": age_group_total_revenue})\n",
    "\n",
    "#Add column with average revenue per player\n",
    "summary_age_df[\"Per Player Revenue\"] = age_group_total_revenue / per_age_groups\n",
    "\n",
    "#Format columns\n",
    "summary_age_df[\"Average Purchase Price\"] = summary_age_df[\"Average Purchase Price\"].astype(float).map(\"${:,.2f}\".format)\n",
    "summary_age_df[\"Total Revenue\"] = summary_age_df[\"Total Revenue\"].astype(float).map(\"${:,.2f}\".format)\n",
    "summary_age_df[\"Per Player Revenue\"] = summary_age_df[\"Per Player Revenue\"].astype(float).map(\"${:,.2f}\".format)\n",
    "summary_age_df[\"% of Player Base\"] = summary_age_df[\"% of Player Base\"].astype(float).map('{:.2%}'.format)\n",
    "\n",
    "summary_age_df"
   ]
  },
  {
   "cell_type": "markdown",
   "metadata": {},
   "source": [
    "## Top Spenders"
   ]
  },
  {
   "cell_type": "markdown",
   "metadata": {},
   "source": [
    "* Run basic calculations to obtain the results in the table below\n",
    "\n",
    "\n",
    "* Create a summary data frame to hold the results\n",
    "\n",
    "\n",
    "* Sort the total purchase value column in descending order\n",
    "\n",
    "\n",
    "* Optional: give the displayed data cleaner formatting\n",
    "\n",
    "\n",
    "* Display a preview of the summary data frame\n",
    "\n"
   ]
  },
  {
   "cell_type": "code",
   "execution_count": 19,
   "metadata": {},
   "outputs": [
    {
     "data": {
      "text/html": [
       "<div>\n",
       "<style scoped>\n",
       "    .dataframe tbody tr th:only-of-type {\n",
       "        vertical-align: middle;\n",
       "    }\n",
       "\n",
       "    .dataframe tbody tr th {\n",
       "        vertical-align: top;\n",
       "    }\n",
       "\n",
       "    .dataframe thead th {\n",
       "        text-align: right;\n",
       "    }\n",
       "</style>\n",
       "<table border=\"1\" class=\"dataframe\">\n",
       "  <thead>\n",
       "    <tr style=\"text-align: right;\">\n",
       "      <th></th>\n",
       "      <th></th>\n",
       "      <th>Total Revenue</th>\n",
       "      <th>Total Purchases</th>\n",
       "      <th>Average Price</th>\n",
       "    </tr>\n",
       "    <tr>\n",
       "      <th>SN</th>\n",
       "      <th>Age</th>\n",
       "      <th></th>\n",
       "      <th></th>\n",
       "      <th></th>\n",
       "    </tr>\n",
       "  </thead>\n",
       "  <tbody>\n",
       "    <tr>\n",
       "      <td>Lisosia93</td>\n",
       "      <td>25</td>\n",
       "      <td>18.96</td>\n",
       "      <td>5</td>\n",
       "      <td>$3.79</td>\n",
       "    </tr>\n",
       "    <tr>\n",
       "      <td>Idastidru52</td>\n",
       "      <td>24</td>\n",
       "      <td>15.45</td>\n",
       "      <td>4</td>\n",
       "      <td>$3.86</td>\n",
       "    </tr>\n",
       "    <tr>\n",
       "      <td>Chamjask73</td>\n",
       "      <td>22</td>\n",
       "      <td>13.83</td>\n",
       "      <td>3</td>\n",
       "      <td>$4.61</td>\n",
       "    </tr>\n",
       "    <tr>\n",
       "      <td>Iral74</td>\n",
       "      <td>21</td>\n",
       "      <td>13.62</td>\n",
       "      <td>4</td>\n",
       "      <td>$3.40</td>\n",
       "    </tr>\n",
       "    <tr>\n",
       "      <td>Iskadarya95</td>\n",
       "      <td>20</td>\n",
       "      <td>13.10</td>\n",
       "      <td>3</td>\n",
       "      <td>$4.37</td>\n",
       "    </tr>\n",
       "  </tbody>\n",
       "</table>\n",
       "</div>"
      ],
      "text/plain": [
       "                 Total Revenue  Total Purchases Average Price\n",
       "SN          Age                                              \n",
       "Lisosia93   25           18.96                5         $3.79\n",
       "Idastidru52 24           15.45                4         $3.86\n",
       "Chamjask73  22           13.83                3         $4.61\n",
       "Iral74      21           13.62                4         $3.40\n",
       "Iskadarya95 20           13.10                3         $4.37"
      ]
     },
     "execution_count": 19,
     "metadata": {},
     "output_type": "execute_result"
    }
   ],
   "source": [
    "spender_df = total_data.groupby([\"SN\", \"Age\"])\n",
    "revenue_SN = spender_df[\"Price\"].sum()\n",
    "purchase_SN = spender_df[\"Purchase ID\"].count()\n",
    "avg_price_SN = revenue_SN / purchase_SN\n",
    "SN_df = pd.DataFrame({\"Total Revenue\": revenue_SN, \"Total Purchases\": purchase_SN, \"Average Price\": avg_price_SN})\n",
    "\n",
    "SN_df[\"Average Price\"] = SN_df[\"Average Price\"].astype(float).map(\"${:,.2f}\".format)\n",
    "SN_df.sort_values(by=[\"Total Revenue\"], ascending=False).head()\n",
    "\n",
    "\n"
   ]
  },
  {
   "cell_type": "markdown",
   "metadata": {},
   "source": [
    "## Most Popular Items"
   ]
  },
  {
   "cell_type": "markdown",
   "metadata": {},
   "source": [
    "* Retrieve the Item ID, Item Name, and Item Price columns\n",
    "\n",
    "\n",
    "* Group by Item ID and Item Name. Perform calculations to obtain purchase count, item price, and total purchase value\n",
    "\n",
    "\n",
    "* Create a summary data frame to hold the results\n",
    "\n",
    "\n",
    "* Sort the purchase count column in descending order\n",
    "\n",
    "\n",
    "* Optional: give the displayed data cleaner formatting\n",
    "\n",
    "\n",
    "* Display a preview of the summary data frame\n",
    "\n"
   ]
  },
  {
   "cell_type": "code",
   "execution_count": 20,
   "metadata": {},
   "outputs": [
    {
     "data": {
      "text/html": [
       "<div>\n",
       "<style scoped>\n",
       "    .dataframe tbody tr th:only-of-type {\n",
       "        vertical-align: middle;\n",
       "    }\n",
       "\n",
       "    .dataframe tbody tr th {\n",
       "        vertical-align: top;\n",
       "    }\n",
       "\n",
       "    .dataframe thead th {\n",
       "        text-align: right;\n",
       "    }\n",
       "</style>\n",
       "<table border=\"1\" class=\"dataframe\">\n",
       "  <thead>\n",
       "    <tr style=\"text-align: right;\">\n",
       "      <th></th>\n",
       "      <th></th>\n",
       "      <th></th>\n",
       "      <th>Revenue</th>\n",
       "      <th>Total Purchases</th>\n",
       "    </tr>\n",
       "    <tr>\n",
       "      <th>Item Name</th>\n",
       "      <th>Item ID</th>\n",
       "      <th>Price</th>\n",
       "      <th></th>\n",
       "      <th></th>\n",
       "    </tr>\n",
       "  </thead>\n",
       "  <tbody>\n",
       "    <tr>\n",
       "      <td>Oathbreaker, Last Hope of the Breaking Storm</td>\n",
       "      <td>178</td>\n",
       "      <td>4.23</td>\n",
       "      <td>50.76</td>\n",
       "      <td>12</td>\n",
       "    </tr>\n",
       "    <tr>\n",
       "      <td>Extraction, Quickblade Of Trembling Hands</td>\n",
       "      <td>108</td>\n",
       "      <td>3.53</td>\n",
       "      <td>31.77</td>\n",
       "      <td>9</td>\n",
       "    </tr>\n",
       "    <tr>\n",
       "      <td>Nirvana</td>\n",
       "      <td>82</td>\n",
       "      <td>4.90</td>\n",
       "      <td>44.10</td>\n",
       "      <td>9</td>\n",
       "    </tr>\n",
       "    <tr>\n",
       "      <td>Fiery Glass Crusader</td>\n",
       "      <td>145</td>\n",
       "      <td>4.58</td>\n",
       "      <td>41.22</td>\n",
       "      <td>9</td>\n",
       "    </tr>\n",
       "    <tr>\n",
       "      <td>Pursuit, Cudgel of Necromancy</td>\n",
       "      <td>19</td>\n",
       "      <td>1.02</td>\n",
       "      <td>8.16</td>\n",
       "      <td>8</td>\n",
       "    </tr>\n",
       "  </tbody>\n",
       "</table>\n",
       "</div>"
      ],
      "text/plain": [
       "                                                            Revenue  \\\n",
       "Item Name                                    Item ID Price            \n",
       "Oathbreaker, Last Hope of the Breaking Storm 178     4.23     50.76   \n",
       "Extraction, Quickblade Of Trembling Hands    108     3.53     31.77   \n",
       "Nirvana                                      82      4.90     44.10   \n",
       "Fiery Glass Crusader                         145     4.58     41.22   \n",
       "Pursuit, Cudgel of Necromancy                19      1.02      8.16   \n",
       "\n",
       "                                                            Total Purchases  \n",
       "Item Name                                    Item ID Price                   \n",
       "Oathbreaker, Last Hope of the Breaking Storm 178     4.23                12  \n",
       "Extraction, Quickblade Of Trembling Hands    108     3.53                 9  \n",
       "Nirvana                                      82      4.90                 9  \n",
       "Fiery Glass Crusader                         145     4.58                 9  \n",
       "Pursuit, Cudgel of Necromancy                19      1.02                 8  "
      ]
     },
     "execution_count": 20,
     "metadata": {},
     "output_type": "execute_result"
    }
   ],
   "source": [
    "item_df = total_data.groupby([\"Item Name\", \"Item ID\", \"Price\"])\n",
    "item_revenue = item_df[\"Price\"].sum()\n",
    "item_purchases = item_df[\"Purchase ID\"].count()\n",
    "\n",
    "item_summary_df = pd.DataFrame({\"Revenue\": item_revenue, \"Total Purchases\": item_purchases})\n",
    "item_summary_df.sort_values(by=[\"Total Purchases\"], ascending=False).head()\n"
   ]
  },
  {
   "cell_type": "markdown",
   "metadata": {},
   "source": [
    "## Most Profitable Items"
   ]
  },
  {
   "cell_type": "markdown",
   "metadata": {},
   "source": [
    "* Sort the above table by total purchase value in descending order\n",
    "\n",
    "\n",
    "* Optional: give the displayed data cleaner formatting\n",
    "\n",
    "\n",
    "* Display a preview of the data frame\n",
    "\n"
   ]
  },
  {
   "cell_type": "code",
   "execution_count": 21,
   "metadata": {
    "scrolled": true
   },
   "outputs": [
    {
     "data": {
      "text/html": [
       "<div>\n",
       "<style scoped>\n",
       "    .dataframe tbody tr th:only-of-type {\n",
       "        vertical-align: middle;\n",
       "    }\n",
       "\n",
       "    .dataframe tbody tr th {\n",
       "        vertical-align: top;\n",
       "    }\n",
       "\n",
       "    .dataframe thead th {\n",
       "        text-align: right;\n",
       "    }\n",
       "</style>\n",
       "<table border=\"1\" class=\"dataframe\">\n",
       "  <thead>\n",
       "    <tr style=\"text-align: right;\">\n",
       "      <th></th>\n",
       "      <th></th>\n",
       "      <th></th>\n",
       "      <th>Revenue</th>\n",
       "      <th>Total Purchases</th>\n",
       "    </tr>\n",
       "    <tr>\n",
       "      <th>Item Name</th>\n",
       "      <th>Item ID</th>\n",
       "      <th>Price</th>\n",
       "      <th></th>\n",
       "      <th></th>\n",
       "    </tr>\n",
       "  </thead>\n",
       "  <tbody>\n",
       "    <tr>\n",
       "      <td>Oathbreaker, Last Hope of the Breaking Storm</td>\n",
       "      <td>178</td>\n",
       "      <td>4.23</td>\n",
       "      <td>50.76</td>\n",
       "      <td>12</td>\n",
       "    </tr>\n",
       "    <tr>\n",
       "      <td>Nirvana</td>\n",
       "      <td>82</td>\n",
       "      <td>4.90</td>\n",
       "      <td>44.10</td>\n",
       "      <td>9</td>\n",
       "    </tr>\n",
       "    <tr>\n",
       "      <td>Fiery Glass Crusader</td>\n",
       "      <td>145</td>\n",
       "      <td>4.58</td>\n",
       "      <td>41.22</td>\n",
       "      <td>9</td>\n",
       "    </tr>\n",
       "    <tr>\n",
       "      <td>Final Critic</td>\n",
       "      <td>92</td>\n",
       "      <td>4.88</td>\n",
       "      <td>39.04</td>\n",
       "      <td>8</td>\n",
       "    </tr>\n",
       "    <tr>\n",
       "      <td>Singed Scalpel</td>\n",
       "      <td>103</td>\n",
       "      <td>4.35</td>\n",
       "      <td>34.80</td>\n",
       "      <td>8</td>\n",
       "    </tr>\n",
       "  </tbody>\n",
       "</table>\n",
       "</div>"
      ],
      "text/plain": [
       "                                                            Revenue  \\\n",
       "Item Name                                    Item ID Price            \n",
       "Oathbreaker, Last Hope of the Breaking Storm 178     4.23     50.76   \n",
       "Nirvana                                      82      4.90     44.10   \n",
       "Fiery Glass Crusader                         145     4.58     41.22   \n",
       "Final Critic                                 92      4.88     39.04   \n",
       "Singed Scalpel                               103     4.35     34.80   \n",
       "\n",
       "                                                            Total Purchases  \n",
       "Item Name                                    Item ID Price                   \n",
       "Oathbreaker, Last Hope of the Breaking Storm 178     4.23                12  \n",
       "Nirvana                                      82      4.90                 9  \n",
       "Fiery Glass Crusader                         145     4.58                 9  \n",
       "Final Critic                                 92      4.88                 8  \n",
       "Singed Scalpel                               103     4.35                 8  "
      ]
     },
     "execution_count": 21,
     "metadata": {},
     "output_type": "execute_result"
    }
   ],
   "source": [
    "item_summary_df.sort_values(by=[\"Revenue\"], ascending=False).head()"
   ]
  }
 ],
 "metadata": {
  "anaconda-cloud": {},
  "kernel_info": {
   "name": "python3"
  },
  "kernelspec": {
   "display_name": "Python 3",
   "language": "python",
   "name": "python3"
  },
  "language_info": {
   "codemirror_mode": {
    "name": "ipython",
    "version": 3
   },
   "file_extension": ".py",
   "mimetype": "text/x-python",
   "name": "python",
   "nbconvert_exporter": "python",
   "pygments_lexer": "ipython3",
   "version": "3.7.4"
  },
  "latex_envs": {
   "LaTeX_envs_menu_present": true,
   "autoclose": false,
   "autocomplete": true,
   "bibliofile": "biblio.bib",
   "cite_by": "apalike",
   "current_citInitial": 1,
   "eqLabelWithNumbers": true,
   "eqNumInitial": 1,
   "hotkeys": {
    "equation": "Ctrl-E",
    "itemize": "Ctrl-I"
   },
   "labels_anchors": false,
   "latex_user_defs": false,
   "report_style_numbering": false,
   "user_envs_cfg": false
  },
  "nteract": {
   "version": "0.2.0"
  }
 },
 "nbformat": 4,
 "nbformat_minor": 2
}
